{
  "nbformat": 4,
  "nbformat_minor": 0,
  "metadata": {
    "colab": {
      "private_outputs": true,
      "provenance": [],
      "authorship_tag": "ABX9TyMFQ2j/qwUvWPBnnMzvQh4F",
      "include_colab_link": true
    },
    "kernelspec": {
      "name": "python3",
      "display_name": "Python 3"
    },
    "language_info": {
      "name": "python"
    }
  },
  "cells": [
    {
      "cell_type": "markdown",
      "metadata": {
        "id": "view-in-github",
        "colab_type": "text"
      },
      "source": [
        "<a href=\"https://colab.research.google.com/github/Whoami666/HSE/blob/main/pubmed_project/Network_analysis_pubmed.ipynb\" target=\"_parent\"><img src=\"https://colab.research.google.com/assets/colab-badge.svg\" alt=\"Open In Colab\"/></a>"
      ]
    },
    {
      "cell_type": "code",
      "source": [
        "import requests\n",
        "import pandas as pd\n",
        "import time\n",
        "import gdown\n",
        "from http.client import IncompleteRead\n",
        "import seaborn as sns\n",
        "import matplotlib.pyplot as plt"
      ],
      "metadata": {
        "id": "yV0UwUUTVlhf"
      },
      "execution_count": null,
      "outputs": []
    },
    {
      "cell_type": "code",
      "source": [
        "import re\n",
        "from collections import Counter"
      ],
      "metadata": {
        "id": "fD3RdlZVfTGb"
      },
      "execution_count": null,
      "outputs": []
    },
    {
      "cell_type": "code",
      "source": [
        "from google.colab import drive\n",
        "drive.mount('/content/drive')"
      ],
      "metadata": {
        "id": "AsUlPQ7kWBGA"
      },
      "execution_count": null,
      "outputs": []
    },
    {
      "cell_type": "code",
      "source": [
        "!gdown 1-09Noy8YBdbnToOukDbl2QESmUG0Hav-\n",
        "df = pd.read_excel(\"/content/drive/MyDrive/pubmed2006.xlsx\")"
      ],
      "metadata": {
        "id": "E9SqKXy8W050"
      },
      "execution_count": null,
      "outputs": []
    },
    {
      "cell_type": "code",
      "source": [
        "df.info()"
      ],
      "metadata": {
        "id": "Bcmr4u6ERcJL"
      },
      "execution_count": null,
      "outputs": []
    },
    {
      "cell_type": "code",
      "source": [
        "df['true_citations_cnt'] = df.Citations.apply(lambda x: len(x))\n",
        "df = df.drop(columns=['HasAbstract', 'PmcRefCount', 'LangList', 'Pages', 'ISSN', 'NlmUniqueID', 'ESSN', 'PubStatus', 'RecordStatus', 'Volume', 'Issue'])\n",
        "df.head(1)"
      ],
      "metadata": {
        "id": "HlcnIxbJXyCF"
      },
      "execution_count": null,
      "outputs": []
    },
    {
      "cell_type": "code",
      "source": [
        "#проверяем на дубли\n",
        "duplicate_rows = df[df.duplicated()]\n",
        "duplicate_rows"
      ],
      "metadata": {
        "id": "WDq8hfYNYA3B"
      },
      "execution_count": null,
      "outputs": []
    },
    {
      "cell_type": "markdown",
      "source": [
        "# DegreeCentrality"
      ],
      "metadata": {
        "id": "8H7EkNs3HZgw"
      }
    },
    {
      "cell_type": "code",
      "source": [
        "import networkx as nx"
      ],
      "metadata": {
        "id": "ExjZJJubKHlI"
      },
      "execution_count": null,
      "outputs": []
    },
    {
      "cell_type": "code",
      "source": [
        "G = nx.DiGraph()\n",
        "\n",
        "for index, row in df.iterrows():\n",
        "    node_id = row['Id']\n",
        "    citations = row['Citations']\n",
        "    G.add_node(node_id)\n",
        "    G.add_edges_from((node_id, citation) for citation in citations)\n",
        "\n",
        "\n",
        "degree_centrality = nx.degree_centrality(G)\n",
        "in_degree_centrality = nx.in_degree_centrality(G)\n",
        "out_degree_centrality = nx.out_degree_centrality(G)"
      ],
      "metadata": {
        "id": "UhyE8RjLKixH"
      },
      "execution_count": null,
      "outputs": []
    },
    {
      "cell_type": "code",
      "source": [
        "df['DegreeCentrality'] = df['Id'].map(degree_centrality)\n",
        "\n",
        "df.head(2)"
      ],
      "metadata": {
        "id": "z8FWcf9xKl9j"
      },
      "execution_count": null,
      "outputs": []
    },
    {
      "cell_type": "code",
      "source": [
        "pos = nx.spring_layout(G)\n",
        "nx.draw(G, pos, with_labels=True, node_size=700, node_color='skyblue', font_size=8, font_color='black', font_weight='bold', edge_color='gray', linewidths=0.5)\n",
        "plt.title('Citation Network')\n",
        "plt.show()"
      ],
      "metadata": {
        "id": "SlSpJ4HHKeaO"
      },
      "execution_count": null,
      "outputs": []
    },
    {
      "cell_type": "code",
      "source": [
        "plt.figure(figsize=(12, 5))\n",
        "plt.subplot(1, 2, 1)\n",
        "sns.histplot(df['DegreeCentrality'], bins=40, color='skyblue', edgecolor='black')\n",
        "plt.xlabel('Индекс')\n",
        "plt.ylabel('Статьи')\n",
        "plt.title('DegreeCentrality')\n",
        "\n",
        "# Adjust layout to prevent overlapping\n",
        "plt.tight_layout()"
      ],
      "metadata": {
        "id": "1QbIIos5G8Bu"
      },
      "execution_count": null,
      "outputs": []
    },
    {
      "cell_type": "code",
      "source": [
        "df.nlargest(10, 'DegreeCentrality')"
      ],
      "metadata": {
        "id": "TKzKKZO4NGpE"
      },
      "execution_count": null,
      "outputs": []
    },
    {
      "cell_type": "code",
      "source": [],
      "metadata": {
        "id": "eQJJrWZONM0r"
      },
      "execution_count": null,
      "outputs": []
    }
  ]
}